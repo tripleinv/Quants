{
 "cells": [
  {
   "cell_type": "markdown",
   "id": "b7ee7a17-b97e-42d9-8f4f-7b25ee6c3661",
   "metadata": {},
   "source": [
    "# P2 - Download Removed Tickers from SEC"
   ]
  },
  {
   "cell_type": "markdown",
   "id": "46b36f63-12bb-4ecd-8b73-ed2c94359d01",
   "metadata": {},
   "source": [
    "## Overview:\n",
    "\n",
    "This project aims to download financial data for historically removed S&P500 companies from SEC filings using the SEC API. This step is necessary to remove the survivorship bias among financial data."
   ]
  },
  {
   "cell_type": "code",
   "execution_count": 1,
   "id": "6a5c30fb-7c80-47df-a957-a6e505ceb047",
   "metadata": {},
   "outputs": [],
   "source": [
    "# import libraries\n",
    "import yfinance as yf\n",
    "import pandas as pd\n",
    "import requests\n",
    "import json\n",
    "import numpy as np\n",
    "import pickle\n",
    "import copy\n",
    "import datetime as dt\n",
    "import os\n",
    "import scripts as s\n",
    "\n",
    "headers = {\"User-Agent\": \"ian.ye.fu@gmail.com\"} \n",
    "\n",
    "data_folder_download = '../datasets/download/'\n",
    "data_folder_generate = '../datasets/generate/'\n",
    "\n",
    "%store -r data_category"
   ]
  },
  {
   "cell_type": "code",
   "execution_count": 8,
   "id": "39f95d61-b61c-4184-a86e-d3e30e9d2dac",
   "metadata": {},
   "outputs": [],
   "source": [
    "with open(data_folder_generate + 'sp500_df_v1.0.pkl', 'rb') as f:\n",
    "    current_sp500_df = pickle.load(f)"
   ]
  },
  {
   "cell_type": "code",
   "execution_count": 41,
   "id": "9878e72e-49f1-47dc-be3b-3a27a1a9021f",
   "metadata": {},
   "outputs": [],
   "source": [
    "with open(data_folder_generate + 'sp500_df_v2.0.pkl', 'rb') as f:\n",
    "    sp500_df = pickle.load(f)"
   ]
  },
  {
   "cell_type": "code",
   "execution_count": 44,
   "id": "d4ae25cc-f1e9-4c2d-a67e-5679bebadf29",
   "metadata": {},
   "outputs": [],
   "source": [
    "removed_tickers_list  = [index for index in sp500_df.index if index not in current_sp500_df.index.to_list()]"
   ]
  },
  {
   "cell_type": "code",
   "execution_count": 81,
   "id": "6ce49dff-07c2-4980-a35d-acfb513b7ca0",
   "metadata": {},
   "outputs": [
    {
     "name": "stdout",
     "output_type": "stream",
     "text": [
      "Stored 'removed_tickers_list' (list)\n"
     ]
    }
   ],
   "source": [
    "%store removed_tickers_list"
   ]
  },
  {
   "cell_type": "code",
   "execution_count": 55,
   "id": "27651f6d-d8a1-4fb6-8f10-0b060c3982ff",
   "metadata": {},
   "outputs": [],
   "source": [
    "removed_tickers_df = sp500_df.loc[removed_tickers_list]"
   ]
  },
  {
   "cell_type": "code",
   "execution_count": null,
   "id": "534ae4c3-3651-4afb-8d33-ebea42bee51f",
   "metadata": {},
   "outputs": [],
   "source": [
    "added_sp500_financial_data = s.download_financial_data_from_SEC(removed_tickers_list, removed_tickers_df, data_category)"
   ]
  },
  {
   "cell_type": "code",
   "execution_count": 87,
   "id": "15d44a77-67d3-48cc-963f-ee25b0d6e05a",
   "metadata": {},
   "outputs": [],
   "source": [
    "# notice only I/S based metrics need to be updated.\n",
    "updated_data_category = [\n",
    "                 'EarningsPerShareDiluted',\n",
    "                 'CommonStockDividendsPerShareDeclared', \n",
    "                 'NetIncomeLoss'\n",
    "                 ]\n",
    "added_sp500_financial_data_updated = s.convert_annual_to_quarter(added_sp500_financial_data, updated_data_category)"
   ]
  },
  {
   "cell_type": "code",
   "execution_count": 91,
   "id": "36188887-03b5-4d5b-b952-a134a67ab4cf",
   "metadata": {},
   "outputs": [],
   "source": [
    "with open(data_folder_generate + 'removed_sp500_financial_data_v1.0.pkl', 'wb') as f:\n",
    "    pickle.dump(added_sp500_financial_data_updated, f)"
   ]
  }
 ],
 "metadata": {
  "kernelspec": {
   "display_name": "Python 3 (ipykernel)",
   "language": "python",
   "name": "python3"
  },
  "language_info": {
   "codemirror_mode": {
    "name": "ipython",
    "version": 3
   },
   "file_extension": ".py",
   "mimetype": "text/x-python",
   "name": "python",
   "nbconvert_exporter": "python",
   "pygments_lexer": "ipython3",
   "version": "3.12.0"
  }
 },
 "nbformat": 4,
 "nbformat_minor": 5
}
